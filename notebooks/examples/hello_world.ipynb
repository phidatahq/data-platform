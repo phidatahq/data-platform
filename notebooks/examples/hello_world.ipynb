{
 "cells": [
  {
   "cell_type": "code",
   "execution_count": null,
   "id": "ba73193b-a3c9-4c73-87f5-b2faeeb55f13",
   "metadata": {
    "tags": [
     "parameters"
    ]
   },
   "outputs": [],
   "source": [
    "from datetime import datetime\n",
    "\n",
    "run_date = datetime.now()\n",
    "print(f\"Hello world. Today is {run_date:%a}, {run_date:%b} {run_date:%d} {run_date:%I:%M %p}\")"
   ]
  }
 ],
 "metadata": {
  "kernelspec": {
   "display_name": "Python 3 (ipykernel)",
   "language": "python",
   "name": "python3"
  },
  "language_info": {
   "codemirror_mode": {
    "name": "ipython",
    "version": 3
   },
   "file_extension": ".py",
   "mimetype": "text/x-python",
   "name": "python",
   "nbconvert_exporter": "python",
   "pygments_lexer": "ipython3",
   "version": "3.9.15"
  },
  "vscode": {
   "interpreter": {
    "hash": "ef3cc135c88643b73cb86ebf052b5080a3f1657beeac7bdc53483195d594c301"
   }
  }
 },
 "nbformat": 4,
 "nbformat_minor": 5
}
